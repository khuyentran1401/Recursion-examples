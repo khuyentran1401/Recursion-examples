{
 "cells": [
  {
   "cell_type": "code",
   "execution_count": 37,
   "metadata": {},
   "outputs": [],
   "source": [
    "def find_max(my_list):\n",
    "    \n",
    "    n = len(my_list)\n",
    "    \n",
    "    if len(my_list) <= 1:\n",
    "        return my_list[0]\n",
    "    else:\n",
    "        \n",
    "        n = n//2\n",
    "        #Compare 2 array with size n/2\n",
    "        left = my_list[:n]\n",
    "        right = my_list[n:]\n",
    "        \n",
    "        if find_max(left) > find_max(right):\n",
    "            return find_max(left)\n",
    "        else:\n",
    "            return find_max(right)\n",
    "        "
   ]
  },
  {
   "cell_type": "code",
   "execution_count": 38,
   "metadata": {},
   "outputs": [
    {
     "data": {
      "text/plain": [
       "array([79,  8, 88, 67,  9,  2, 36, 57, 91, 40])"
      ]
     },
     "execution_count": 38,
     "metadata": {},
     "output_type": "execute_result"
    }
   ],
   "source": [
    "import numpy as np\n",
    "my_list = np.random.randint(0,100, (10))\n",
    "my_list"
   ]
  },
  {
   "cell_type": "code",
   "execution_count": 39,
   "metadata": {},
   "outputs": [
    {
     "data": {
      "text/plain": [
       "91"
      ]
     },
     "execution_count": 39,
     "metadata": {},
     "output_type": "execute_result"
    }
   ],
   "source": [
    "find_max(my_list)"
   ]
  }
 ],
 "metadata": {
  "kernelspec": {
   "display_name": "Python 3",
   "language": "python",
   "name": "python3"
  },
  "language_info": {
   "codemirror_mode": {
    "name": "ipython",
    "version": 3
   },
   "file_extension": ".py",
   "mimetype": "text/x-python",
   "name": "python",
   "nbconvert_exporter": "python",
   "pygments_lexer": "ipython3",
   "version": "3.8.1"
  }
 },
 "nbformat": 4,
 "nbformat_minor": 4
}
