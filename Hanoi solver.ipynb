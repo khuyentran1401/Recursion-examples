{
 "cells": [
  {
   "cell_type": "code",
   "execution_count": 5,
   "metadata": {},
   "outputs": [
    {
     "name": "stdout",
     "output_type": "stream",
     "text": [
      "Initial State:  ([4, 3, 2, 1], 'source') ([], 'helper') ([], 'target')\n",
      "moving 1 from source to helper\n",
      "moving 2 from source to target\n",
      "moving 1 from helper to target\n",
      "moving 3 from source to helper\n",
      "moving 1 from target to source\n",
      "moving 2 from target to helper\n",
      "moving 1 from source to helper\n",
      "moving 4 from source to target\n",
      "moving 1 from helper to target\n",
      "moving 2 from helper to source\n",
      "moving 1 from target to source\n",
      "moving 3 from helper to target\n",
      "moving 1 from source to helper\n",
      "moving 2 from source to target\n",
      "moving 1 from helper to target\n",
      "Final  State:  ([], 'source') ([], 'helper') ([4, 3, 2, 1], 'target')\n"
     ]
    }
   ],
   "source": [
    "def hanoi(n, source, helper, target):\n",
    "    \n",
    "    if n > 0:\n",
    "        \n",
    "        #move tower of size n-1 to helper by switching helper to target\n",
    "        hanoi(n-1, source, target, helper)\n",
    "        \n",
    "        #move disk from source peg to target peg\n",
    "        if source[0]:\n",
    "            disk = source[0].pop()\n",
    "            print (\"moving \" + str(disk) + \" from \" + source[1] + \" to \" + target[1])\n",
    "            target[0].append(disk)\n",
    "        \n",
    "        #move tower of size n-1 from helper to target by switching helper to source\n",
    "        hanoi(n - 1, helper, source, target)\n",
    "        \n",
    "source = ([4,3,2,1], \"source\")\n",
    "target = ([], 'target')\n",
    "helper = ([], 'helper')\n",
    "\n",
    "nDisks = len(source[0]);\n",
    "\n",
    "print(\"Initial State: \", source, helper, target)\n",
    "\n",
    "hanoi(nDisks,source,helper,target)\n",
    "\n",
    "print(\"Final  State: \", source, helper, target)\n",
    "        "
   ]
  },
  {
   "cell_type": "code",
   "execution_count": null,
   "metadata": {},
   "outputs": [],
   "source": []
  }
 ],
 "metadata": {
  "kernelspec": {
   "display_name": "Python 3",
   "language": "python",
   "name": "python3"
  },
  "language_info": {
   "codemirror_mode": {
    "name": "ipython",
    "version": 3
   },
   "file_extension": ".py",
   "mimetype": "text/x-python",
   "name": "python",
   "nbconvert_exporter": "python",
   "pygments_lexer": "ipython3",
   "version": "3.8.1"
  }
 },
 "nbformat": 4,
 "nbformat_minor": 4
}
