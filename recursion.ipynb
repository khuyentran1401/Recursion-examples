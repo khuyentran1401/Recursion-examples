{
 "cells": [
  {
   "cell_type": "markdown",
   "metadata": {},
   "source": [
    "# Examples of recursive solutions"
   ]
  },
  {
   "cell_type": "code",
   "execution_count": 5,
   "metadata": {},
   "outputs": [
    {
     "name": "stdout",
     "output_type": "stream",
     "text": [
      "45 23 105 45 987 3 4 2\n",
      "the largest number is:  987\n"
     ]
    }
   ],
   "source": [
    "# Python program to convert decimal number into binary number using recursive function\n",
    "\n",
    "def MaxRec(myList):\n",
    "    if len(myList) <= 1:\n",
    "            return myList[0]\n",
    "    else:\n",
    "        m = MaxRec(myList[1:])\n",
    "        return m if m > myList[0] else myList[0]\n",
    "\n",
    "def main():\n",
    "    myList = [int(x) for x in input().split()]\n",
    "    print(\"the largest number is: \", MaxRec(myList))\n",
    "\n",
    "main()"
   ]
  },
  {
   "cell_type": "code",
   "execution_count": 4,
   "metadata": {},
   "outputs": [
    {
     "name": "stdout",
     "output_type": "stream",
     "text": [
      "Enter an integer: 1024\n",
      "10000000000"
     ]
    }
   ],
   "source": [
    "# Python program to convert decimal number into binary number using recursive function\n",
    " \n",
    "def binary(n):\n",
    "   \"\"\"Function to print binary number\n",
    "   for the input decimal using recursion\"\"\"\n",
    "   if n > 1:\n",
    "       binary(n//2)\n",
    "   print(n % 2,end = '')\n",
    " \n",
    "# Take decimal number from user\n",
    "dec = int(input(\"Enter an integer: \"))\n",
    "binary(dec)"
   ]
  },
  {
   "cell_type": "code",
   "execution_count": null,
   "metadata": {},
   "outputs": [],
   "source": []
  }
 ],
 "metadata": {
  "kernelspec": {
   "display_name": "Python 3",
   "language": "python",
   "name": "python3"
  },
  "language_info": {
   "codemirror_mode": {
    "name": "ipython",
    "version": 3
   },
   "file_extension": ".py",
   "mimetype": "text/x-python",
   "name": "python",
   "nbconvert_exporter": "python",
   "pygments_lexer": "ipython3",
   "version": "3.8.1"
  }
 },
 "nbformat": 4,
 "nbformat_minor": 4
}
