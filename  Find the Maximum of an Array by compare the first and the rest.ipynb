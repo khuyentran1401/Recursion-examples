{
 "cells": [
  {
   "cell_type": "code",
   "execution_count": 5,
   "metadata": {},
   "outputs": [
    {
     "name": "stdout",
     "output_type": "stream",
     "text": [
      "45 23 105 45 987 3 4 2\n",
      "the largest number is:  987\n"
     ]
    }
   ],
   "source": [
    "def MaxRec(myList):\n",
    "    if len(myList) <= 1:\n",
    "            return myList[0]\n",
    "    else:\n",
    "        m = MaxRec(myList[1:])\n",
    "        return m if m > myList[0] else myList[0]\n",
    "\n",
    "def main():\n",
    "    myList = [int(x) for x in input().split()]\n",
    "    print(\"the largest number is: \", MaxRec(myList))\n",
    "\n",
    "main()"
   ]
  }
 ],
 "metadata": {
  "kernelspec": {
   "display_name": "Python 3",
   "language": "python",
   "name": "python3"
  },
  "language_info": {
   "codemirror_mode": {
    "name": "ipython",
    "version": 3
   },
   "file_extension": ".py",
   "mimetype": "text/x-python",
   "name": "python",
   "nbconvert_exporter": "python",
   "pygments_lexer": "ipython3",
   "version": "3.8.1"
  }
 },
 "nbformat": 4,
 "nbformat_minor": 4
}
